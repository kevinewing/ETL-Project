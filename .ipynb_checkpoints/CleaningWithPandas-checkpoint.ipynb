{
 "cells": [
  {
   "cell_type": "code",
   "execution_count": 1,
   "metadata": {},
   "outputs": [],
   "source": [
    "# Import Dependencies\\\n",
    "import pandas as pd"
   ]
  },
  {
   "cell_type": "code",
   "execution_count": 2,
   "metadata": {},
   "outputs": [],
   "source": [
    "zika_path = \"Resources/ZikaData2015.xlsx\"\n",
    "df_zika_init = pd.read_excel(zika_path)\n",
    "demograph_path = \"Resources/PEP_2018_PEPTCOMP_with_ann.csv\"\n",
    "df_demo_raw_init = pd.read_csv(demograph_path)\n",
    "df_demo_raw = df_demo_raw_init.iloc[1:]\n",
    "df_zika_raw = df_zika_init.iloc[1:]"
   ]
  },
  {
   "cell_type": "code",
   "execution_count": 3,
   "metadata": {},
   "outputs": [
    {
     "name": "stderr",
     "output_type": "stream",
     "text": [
      "C:\\Users\\Admin\\Anaconda3\\envs\\PythonData\\lib\\site-packages\\pandas\\core\\frame.py:3781: SettingWithCopyWarning: \n",
      "A value is trying to be set on a copy of a slice from a DataFrame\n",
      "\n",
      "See the caveats in the documentation: http://pandas.pydata.org/pandas-docs/stable/indexing.html#indexing-view-versus-copy\n",
      "  return super(DataFrame, self).rename(**kwargs)\n"
     ]
    }
   ],
   "source": [
    "df_demo_raw.rename (columns={'GEO.display-label': 'States'}, inplace=True)\n",
    "df_demo_select = df_demo_raw[[\"States\",\"births4201072018\",\"deaths4201072018\"]]"
   ]
  },
  {
   "cell_type": "code",
   "execution_count": 4,
   "metadata": {},
   "outputs": [],
   "source": [
    "df_merged = df_demo_select.merge(df_zika_raw, on=\"States\")\n",
    "df_merged.set_index(\"States\", inplace=True)"
   ]
  },
  {
   "cell_type": "code",
   "execution_count": 5,
   "metadata": {
    "scrolled": true
   },
   "outputs": [],
   "source": [
    "df_merged_drop = df_merged.drop(columns = [\"Unnamed: 2\", \"Unnamed: 4\", \"Presumptive viremic blood donors†(N=0)\"])"
   ]
  },
  {
   "cell_type": "code",
   "execution_count": 6,
   "metadata": {},
   "outputs": [
    {
     "data": {
      "text/html": [
       "<div>\n",
       "<style scoped>\n",
       "    .dataframe tbody tr th:only-of-type {\n",
       "        vertical-align: middle;\n",
       "    }\n",
       "\n",
       "    .dataframe tbody tr th {\n",
       "        vertical-align: top;\n",
       "    }\n",
       "\n",
       "    .dataframe thead th {\n",
       "        text-align: right;\n",
       "    }\n",
       "</style>\n",
       "<table border=\"1\" class=\"dataframe\">\n",
       "  <thead>\n",
       "    <tr style=\"text-align: right;\">\n",
       "      <th></th>\n",
       "      <th>Total 04/2018 - 06/2018 Births</th>\n",
       "      <th>Total 04/2018 - 06/2018 Deaths</th>\n",
       "      <th>Confirmed Zika Cases</th>\n",
       "    </tr>\n",
       "    <tr>\n",
       "      <th>States</th>\n",
       "      <th></th>\n",
       "      <th></th>\n",
       "      <th></th>\n",
       "    </tr>\n",
       "  </thead>\n",
       "  <tbody>\n",
       "    <tr>\n",
       "      <th>Alabama</th>\n",
       "      <td>484329</td>\n",
       "      <td>418734</td>\n",
       "      <td>0</td>\n",
       "    </tr>\n",
       "    <tr>\n",
       "      <th>Arizona</th>\n",
       "      <td>703872</td>\n",
       "      <td>434572</td>\n",
       "      <td>0</td>\n",
       "    </tr>\n",
       "    <tr>\n",
       "      <th>Arkansas</th>\n",
       "      <td>314960</td>\n",
       "      <td>251951</td>\n",
       "      <td>2</td>\n",
       "    </tr>\n",
       "    <tr>\n",
       "      <th>California</th>\n",
       "      <td>4078895</td>\n",
       "      <td>2094459</td>\n",
       "      <td>13</td>\n",
       "    </tr>\n",
       "    <tr>\n",
       "      <th>Colorado</th>\n",
       "      <td>543471</td>\n",
       "      <td>289139</td>\n",
       "      <td>0</td>\n",
       "    </tr>\n",
       "  </tbody>\n",
       "</table>\n",
       "</div>"
      ],
      "text/plain": [
       "           Total 04/2018 - 06/2018 Births Total 04/2018 - 06/2018 Deaths  \\\n",
       "States                                                                     \n",
       "Alabama                            484329                         418734   \n",
       "Arizona                            703872                         434572   \n",
       "Arkansas                           314960                         251951   \n",
       "California                        4078895                        2094459   \n",
       "Colorado                           543471                         289139   \n",
       "\n",
       "           Confirmed Zika Cases  \n",
       "States                           \n",
       "Alabama                       0  \n",
       "Arizona                       0  \n",
       "Arkansas                      2  \n",
       "California                   13  \n",
       "Colorado                      0  "
      ]
     },
     "execution_count": 6,
     "metadata": {},
     "output_type": "execute_result"
    }
   ],
   "source": [
    "df_merged_renamed = df_merged_drop.rename(columns = {\"States\":\"State\",\"births4201072018\":\"Total 04/2018 - 06/2018 Births\",\"deaths4201072018\":\"Total 04/2018 - 06/2018 Deaths\",\"Symptomatic disease cases*(N=62)\":\"Confirmed Zika Cases\"})\n",
    "df_merged_renamed.head()"
   ]
  }
 ],
 "metadata": {
  "kernelspec": {
   "display_name": "Python 3",
   "language": "python",
   "name": "python3"
  },
  "language_info": {
   "codemirror_mode": {
    "name": "ipython",
    "version": 3
   },
   "file_extension": ".py",
   "mimetype": "text/x-python",
   "name": "python",
   "nbconvert_exporter": "python",
   "pygments_lexer": "ipython3",
   "version": "3.6.7"
  }
 },
 "nbformat": 4,
 "nbformat_minor": 2
}
